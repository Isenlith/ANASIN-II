{
  "nbformat": 4,
  "nbformat_minor": 0,
  "metadata": {
    "colab": {
      "name": "SINAIS2_02.ipynb",
      "provenance": [],
      "include_colab_link": true
    },
    "kernelspec": {
      "name": "python3",
      "display_name": "Python 3"
    },
    "accelerator": "GPU"
  },
  "cells": [
    {
      "cell_type": "markdown",
      "metadata": {
        "id": "view-in-github",
        "colab_type": "text"
      },
      "source": [
        "<a href=\"https://colab.research.google.com/github/Isenlith/ANASIN-II/blob/master/DFT.ipynb\" target=\"_parent\"><img src=\"https://colab.research.google.com/assets/colab-badge.svg\" alt=\"Open In Colab\"/></a>"
      ]
    },
    {
      "cell_type": "code",
      "metadata": {
        "id": "fccdmieOcLh9",
        "colab_type": "code",
        "colab": {}
      },
      "source": [
        "import numpy as np\n",
        "from matplotlib import pyplot as plt"
      ],
      "execution_count": 0,
      "outputs": []
    },
    {
      "cell_type": "markdown",
      "metadata": {
        "id": "NPSPzF8Xdvbh",
        "colab_type": "text"
      },
      "source": [
        "##Função para DFT\n",
        "\n",
        "\n"
      ]
    },
    {
      "cell_type": "code",
      "metadata": {
        "id": "D9C29nyhdCSR",
        "colab_type": "code",
        "colab": {}
      },
      "source": [
        "def dft(sinal):\n",
        "  N = len(sinal)\n",
        "  Wn = np.exp(-2j*np.pi/N)\n",
        "  sinal_dft = np.zeros(N, dtype='complex')\n",
        "  \n",
        "  for k in range(0, N):\n",
        "    for n in range(0, N):\n",
        "      sinal_dft[k] += sinal[n] * Wn**(k*n)\n",
        "      \n",
        "  return sinal_dft"
      ],
      "execution_count": 0,
      "outputs": []
    },
    {
      "cell_type": "code",
      "metadata": {
        "id": "ULwz2iSUdtzR",
        "colab_type": "code",
        "outputId": "c29f368c-a1e4-449b-e532-396aacbf6e3b",
        "colab": {
          "base_uri": "https://localhost:8080/",
          "height": 68
        }
      },
      "source": [
        "x = [0, 1, 2, 3]\n",
        "x_dft = dft(x)\n",
        "x_fft = np.fft.fft(x)\n",
        "\n",
        "print(x_dft)\n",
        "print(x_fft)"
      ],
      "execution_count": 0,
      "outputs": [
        {
          "output_type": "stream",
          "text": [
            "[ 6.+0.00000000e+00j -2.+2.00000000e+00j -2.-7.34788079e-16j\n",
            " -2.-2.00000000e+00j]\n",
            "[ 6.+0.j -2.+2.j -2.+0.j -2.-2.j]\n"
          ],
          "name": "stdout"
        }
      ]
    }
  ]
}