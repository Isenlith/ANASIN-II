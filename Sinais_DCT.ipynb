{
  "nbformat": 4,
  "nbformat_minor": 0,
  "metadata": {
    "colab": {
      "name": "Sinais_DCT.ipynb",
      "provenance": [],
      "include_colab_link": true
    },
    "kernelspec": {
      "name": "python3",
      "display_name": "Python 3"
    }
  },
  "cells": [
    {
      "cell_type": "markdown",
      "metadata": {
        "id": "view-in-github",
        "colab_type": "text"
      },
      "source": [
        "<a href=\"https://colab.research.google.com/github/Isenlith/ANASIN-II/blob/master/Sinais_DCT.ipynb\" target=\"_parent\"><img src=\"https://colab.research.google.com/assets/colab-badge.svg\" alt=\"Open In Colab\"/></a>"
      ]
    },
    {
      "cell_type": "markdown",
      "metadata": {
        "id": "I2oAIGz-ypik",
        "colab_type": "text"
      },
      "source": [
        "# **Funções de base e DCT**"
      ]
    },
    {
      "cell_type": "code",
      "metadata": {
        "id": "iSk_E9BIrgzL",
        "colab_type": "code",
        "colab": {}
      },
      "source": [
        "import numpy as np\n",
        "from matplotlib import pyplot as plt\n",
        "from scipy import fftpack"
      ],
      "execution_count": 0,
      "outputs": []
    },
    {
      "cell_type": "code",
      "metadata": {
        "id": "IeM7iSqsrvmb",
        "colab_type": "code",
        "outputId": "809fd015-5050-47d1-e2d1-a9f7d5b87571",
        "colab": {
          "base_uri": "https://localhost:8080/",
          "height": 51
        }
      },
      "source": [
        "# DCT e IDCT do Python\n",
        "\n",
        "x = [3, 5, 9, 11]\n",
        "x_dct  = fftpack.dct(x, norm='ortho')\n",
        "x_idct = fftpack.idct(x_dct, norm='ortho')\n",
        "\n",
        "print(x_dct)\n",
        "print(x_idct)"
      ],
      "execution_count": 2,
      "outputs": [
        {
          "output_type": "stream",
          "text": [
            "[14.         -6.30864406  0.          0.44834153]\n",
            "[ 3.  5.  9. 11.]\n"
          ],
          "name": "stdout"
        }
      ]
    },
    {
      "cell_type": "code",
      "metadata": {
        "id": "ewvNs2_Bs65_",
        "colab_type": "code",
        "outputId": "40299149-f8b1-4288-9086-bcf1b6ca8ba6",
        "colab": {
          "base_uri": "https://localhost:8080/",
          "height": 866
        }
      },
      "source": [
        "# Funções de base\n",
        "\n",
        "plt.rcParams[\"figure.figsize\"] = (20, 10)\n",
        "N = 4\n",
        "X = np.zeros((N,N))\n",
        "\n",
        "for k in range(N):\n",
        "  for n in range(N):\n",
        "    X[k, n] = np.cos((2*n+1)*k*np.pi /(2*N))\n",
        "\n",
        "for i in range(N):\n",
        "  plt.subplot(2,2, i+1)\n",
        "  plt.stem(X[i,:], use_line_collection=\"True\");\n",
        "\n",
        "  print(X)"
      ],
      "execution_count": 38,
      "outputs": [
        {
          "output_type": "stream",
          "text": [
            "[[ 1.          1.          1.          1.        ]\n",
            " [ 0.92387953  0.38268343 -0.38268343 -0.92387953]\n",
            " [ 0.70710678 -0.70710678 -0.70710678  0.70710678]\n",
            " [ 0.38268343 -0.92387953  0.92387953 -0.38268343]]\n",
            "[[ 1.          1.          1.          1.        ]\n",
            " [ 0.92387953  0.38268343 -0.38268343 -0.92387953]\n",
            " [ 0.70710678 -0.70710678 -0.70710678  0.70710678]\n",
            " [ 0.38268343 -0.92387953  0.92387953 -0.38268343]]\n",
            "[[ 1.          1.          1.          1.        ]\n",
            " [ 0.92387953  0.38268343 -0.38268343 -0.92387953]\n",
            " [ 0.70710678 -0.70710678 -0.70710678  0.70710678]\n",
            " [ 0.38268343 -0.92387953  0.92387953 -0.38268343]]\n",
            "[[ 1.          1.          1.          1.        ]\n",
            " [ 0.92387953  0.38268343 -0.38268343 -0.92387953]\n",
            " [ 0.70710678 -0.70710678 -0.70710678  0.70710678]\n",
            " [ 0.38268343 -0.92387953  0.92387953 -0.38268343]]\n"
          ],
          "name": "stdout"
        },
        {
          "output_type": "display_data",
          "data": {
            "image/png": "[encoded data removed]",
            "text/plain": [
              "<Figure size 1440x720 with 4 Axes>"
            ]
          },
          "metadata": {
            "tags": []
          }
        }
      ]
    },
    {
      "cell_type": "code",
      "metadata": {
        "id": "Y3c1OKULyvMp",
        "colab_type": "code",
        "outputId": "8982b14d-810d-44e4-bdf3-76494304a8af",
        "colab": {
          "base_uri": "https://localhost:8080/",
          "height": 204
        }
      },
      "source": [
        "# Implementando minhas DCT e IDCT\n",
        "\n",
        "from scipy import fftpack\n",
        "\n",
        "x = [3, 5, 9, 11]\n",
        "\n",
        "def dct(sinal):\n",
        "  sinal = np.asarray(sinal) # garantir que o sinal seja um arranjo, não lista\n",
        "  N = len(sinal) # tamanho do sinal\n",
        "  C = np.zeros((N,N)) # inicializa os coeficientes\n",
        "\n",
        "  # Cálculo das funções de base\n",
        "  for k in range(N):\n",
        "    for n in range(N):\n",
        "      C[k, n] = np.cos((2*n+1)*k*np.pi /(2*N))\n",
        "\n",
        "  C[0, :] = (1/np.sqrt(N)) * C[0, :] # normalização para k = 0\n",
        "  C[1::, :] = (np.sqrt(2/N)) * C[1::, :] # normalização para k != 0\n",
        "\n",
        "  x_dct = C.dot(sinal) # produto matricial\n",
        "\n",
        "  return np.asarray(x_dct)\n",
        "\n",
        "def idct(sinal_dct):\n",
        "  sinal_dct = np.asarray(sinal_dct) # garantir que o sinal seja um arranjo, não lista\n",
        "  N = len(sinal_dct) # tamanho do sinal\n",
        "  C = np.zeros((N,N)) # inicializa os coeficientes\n",
        "\n",
        "  # Cálculo das funções de base\n",
        "  for k in range(N):\n",
        "    for n in range(N):\n",
        "      C[k, n] = np.cos((2*n+1)*k*np.pi /(2*N))\n",
        "\n",
        "  C[0, :] = (1/np.sqrt(N)) * C[0, :] # normalização para k = 0\n",
        "  C[1::, :] = (np.sqrt(2/N)) * C[1::, :] # normalização para k != 0\n",
        "  \n",
        "  x_idct = (C.transpose()).dot(sinal_dct) # produto matricial\n",
        "\n",
        "  return np.asarray(x_idct)\n",
        "\n",
        "print(\"Minha DCT:\\n \", dct(x), \"\\n\")\n",
        "print(\"DCT do Python:\\n \", fftpack.dct(x, norm=\"ortho\"), \"\\n\") \n",
        "print(\"Minha IDCT:\\n \", idct(dct(x)), \"\\n\")\n",
        "print(\"Sinal original:\\n \", x)"
      ],
      "execution_count": 36,
      "outputs": [
        {
          "output_type": "stream",
          "text": [
            "Minha DCT:\n",
            "  [ 1.40000000e+01 -6.30864406e+00 -1.33226763e-15  4.48341529e-01] \n",
            "\n",
            "DCT do Python:\n",
            "  [14.         -6.30864406  0.          0.44834153] \n",
            "\n",
            "Minha IDCT:\n",
            "  [ 3.  5.  9. 11.] \n",
            "\n",
            "Sinal original:\n",
            "  [3, 5, 9, 11]\n"
          ],
          "name": "stdout"
        }
      ]
    }
  ]
}